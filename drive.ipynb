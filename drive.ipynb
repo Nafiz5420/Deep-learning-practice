{
 "cells": [
  {
   "cell_type": "code",
   "execution_count": 1,
   "id": "1b61443b-d0fa-43f0-a637-8313308d9c30",
   "metadata": {},
   "outputs": [],
   "source": [
    "import os\n",
    "import numpy as np\n",
    "import tensorflow as tf\n",
    "from tensorflow.keras.preprocessing.image import ImageDataGenerator\n",
    "from tensorflow.keras.applications import VGG16, ResNet50, MobileNetV2\n",
    "from tensorflow.keras.models import Model\n",
    "from tensorflow.keras.layers import Dense, GlobalAveragePooling2D\n",
    "from tensorflow.keras.optimizers import Adam\n",
    "from sklearn.metrics import classification_report, confusion_matrix\n",
    "\n",
    "# Set GPU memory growth to avoid memory allocation issues\n",
    "physical_devices = tf.config.list_physical_devices('GPU')\n",
    "for device in physical_devices:\n",
    "    tf.config.experimental.set_memory_growth(device, True)\n"
   ]
  },
  {
   "cell_type": "code",
   "execution_count": 2,
   "id": "d703cf92-febd-40f6-8678-00383e54715a",
   "metadata": {},
   "outputs": [
    {
     "name": "stdout",
     "output_type": "stream",
     "text": [
      "Found 22424 images belonging to 10 classes.\n",
      "Found 0 images belonging to 0 classes.\n"
     ]
    }
   ],
   "source": [
    "base_dir = '../thesis_task/imgs'\n",
    "train_dir = os.path.join(base_dir, 'train')\n",
    "test_dir = os.path.join(base_dir, 'test')\n",
    "\n",
    "# Data augmentation and normalization\n",
    "train_datagen = ImageDataGenerator(\n",
    "    rescale=1./255,\n",
    "    rotation_range=20,\n",
    "    width_shift_range=0.2,\n",
    "    height_shift_range=0.2,\n",
    "    shear_range=0.2,\n",
    "    zoom_range=0.2,\n",
    "    horizontal_flip=True,\n",
    "    fill_mode='nearest'\n",
    ")\n",
    "\n",
    "test_datagen = ImageDataGenerator(rescale=1./255)\n",
    "\n",
    "# Create generators\n",
    "train_generator = train_datagen.flow_from_directory(\n",
    "    train_dir,\n",
    "    target_size=(224, 224),\n",
    "    batch_size=32,\n",
    "    class_mode='categorical'\n",
    ")\n",
    "\n",
    "# Since test data does not have subdirectories, use flow_from_dataframe or flow_from_directory with class_mode=None\n",
    "test_generator = test_datagen.flow_from_directory(\n",
    "    test_dir,\n",
    "    target_size=(224, 224),\n",
    "    batch_size=32,\n",
    "    class_mode=None,  # No labels\n",
    "    shuffle=False\n",
    ")\n"
   ]
  },
  {
   "cell_type": "code",
   "execution_count": 3,
   "id": "044390ca-f390-4847-bb34-d8aa7dafae1a",
   "metadata": {},
   "outputs": [],
   "source": [
    "def create_model(model_name):\n",
    "    if model_name == \"VGG16\":\n",
    "        base_model = VGG16(input_shape=(224, 224, 3), include_top=False, weights='imagenet')\n",
    "    elif model_name == \"ResNet50\":\n",
    "        base_model = ResNet50(input_shape=(224, 224, 3), include_top=False, weights='imagenet')\n",
    "    elif model_name == \"MobileNetV2\":\n",
    "        base_model = MobileNetV2(input_shape=(224, 224, 3), include_top=False, weights='imagenet')\n",
    "    else:\n",
    "        raise ValueError(\"Invalid model name. Choose from 'VGG16', 'ResNet50', 'MobileNetV2'.\")\n",
    "\n",
    "    x = base_model.output\n",
    "    x = GlobalAveragePooling2D()(x)\n",
    "    x = Dense(1024, activation='relu')(x)\n",
    "    predictions = Dense(10, activation='softmax')(x)\n",
    "\n",
    "    model = Model(inputs=base_model.input, outputs=predictions)\n",
    "    \n",
    "    for layer in base_model.layers:\n",
    "        layer.trainable = False\n",
    "\n",
    "    model.compile(optimizer=Adam(learning_rate=1e-4), loss='categorical_crossentropy', metrics=['accuracy'])\n",
    "    \n",
    "    return model\n"
   ]
  },
  {
   "cell_type": "code",
   "execution_count": 4,
   "id": "e9a21dfe-6da2-4eba-9f6e-56984629eb40",
   "metadata": {},
   "outputs": [
    {
     "name": "stdout",
     "output_type": "stream",
     "text": [
      "Epoch 1/10\n",
      "700/700 [==============================] - 457s 651ms/step - loss: 1.3060 - accuracy: 0.5764\n",
      "Epoch 2/10\n",
      "700/700 [==============================] - 450s 643ms/step - loss: 0.7927 - accuracy: 0.7502\n",
      "Epoch 3/10\n",
      "700/700 [==============================] - 434s 620ms/step - loss: 0.6219 - accuracy: 0.8078\n",
      "Epoch 4/10\n",
      "700/700 [==============================] - 450s 643ms/step - loss: 0.5451 - accuracy: 0.8310\n",
      "Epoch 5/10\n",
      "700/700 [==============================] - 442s 632ms/step - loss: 0.4913 - accuracy: 0.8461\n",
      "Epoch 6/10\n",
      "700/700 [==============================] - 437s 624ms/step - loss: 0.4494 - accuracy: 0.8577\n",
      "Epoch 7/10\n",
      "700/700 [==============================] - 443s 632ms/step - loss: 0.4160 - accuracy: 0.8681\n",
      "Epoch 8/10\n",
      "700/700 [==============================] - 451s 645ms/step - loss: 0.3756 - accuracy: 0.8839\n",
      "Epoch 9/10\n",
      "700/700 [==============================] - 457s 654ms/step - loss: 0.3422 - accuracy: 0.8937\n",
      "Epoch 10/10\n",
      "700/700 [==============================] - 449s 641ms/step - loss: 0.3290 - accuracy: 0.8984\n"
     ]
    }
   ],
   "source": [
    "# Choose the model\n",
    "model_name = \"MobileNetV2\"  # Change as needed\n",
    "model = create_model(model_name)\n",
    "\n",
    "# Train the model\n",
    "history = model.fit(\n",
    "    train_generator,\n",
    "    steps_per_epoch=train_generator.samples // train_generator.batch_size,\n",
    "    validation_data=test_generator,\n",
    "    validation_steps=test_generator.samples // test_generator.batch_size,\n",
    "    epochs=10  # Adjust epochs as needed\n",
    ")\n",
    "\n",
    "# Save the model\n",
    "model.save(f'{model_name}_driv_distraction.h5')\n",
    "\n",
    "import pickle\n",
    "\n",
    "with open(f'{model_name}_history.pkl', 'wb') as file:\n",
    "    pickle.dump(history.history, file)"
   ]
  },
  {
   "cell_type": "code",
   "execution_count": 3,
   "id": "c7d72e63-cfab-4791-8c4b-dc6916f9a137",
   "metadata": {},
   "outputs": [
    {
     "ename": "EOFError",
     "evalue": "Ran out of input",
     "output_type": "error",
     "traceback": [
      "\u001b[1;31m---------------------------------------------------------------------------\u001b[0m",
      "\u001b[1;31mEOFError\u001b[0m                                  Traceback (most recent call last)",
      "Cell \u001b[1;32mIn[3], line 10\u001b[0m\n\u001b[0;32m      8\u001b[0m \u001b[38;5;66;03m# Load training history\u001b[39;00m\n\u001b[0;32m      9\u001b[0m \u001b[38;5;28;01mwith\u001b[39;00m \u001b[38;5;28mopen\u001b[39m(\u001b[38;5;124m'\u001b[39m\u001b[38;5;124mMobileNetV2_history.pkl\u001b[39m\u001b[38;5;124m'\u001b[39m, \u001b[38;5;124m'\u001b[39m\u001b[38;5;124mrb\u001b[39m\u001b[38;5;124m'\u001b[39m) \u001b[38;5;28;01mas\u001b[39;00m file:\n\u001b[1;32m---> 10\u001b[0m     history \u001b[38;5;241m=\u001b[39m \u001b[43mpickle\u001b[49m\u001b[38;5;241;43m.\u001b[39;49m\u001b[43mload\u001b[49m\u001b[43m(\u001b[49m\u001b[43mfile\u001b[49m\u001b[43m)\u001b[49m\n\u001b[0;32m     12\u001b[0m \u001b[38;5;66;03m# Print available keys in history\u001b[39;00m\n\u001b[0;32m     13\u001b[0m \u001b[38;5;28mprint\u001b[39m(history\u001b[38;5;241m.\u001b[39mkeys())\n",
      "\u001b[1;31mEOFError\u001b[0m: Ran out of input"
     ]
    }
   ],
   "source": [
    "import matplotlib.pyplot as plt\n",
    "import pickle\n",
    "from tensorflow.keras.models import load_model\n",
    "\n",
    "# Load the saved model\n",
    "model = load_model('MobileNetV2_driver_distraction.h5')\n",
    "\n",
    "# Load training history\n",
    "with open('MobileNetV2_history.pkl', 'rb') as file:\n",
    "    history = pickle.load(file)\n",
    "\n",
    "# Print available keys in history\n",
    "print(history.keys())\n",
    "\n",
    "# Plot the available metrics\n",
    "plt.figure(figsize=(12, 4))\n",
    "\n",
    "# Plot training & validation accuracy values if available\n",
    "if 'accuracy' in history and 'val_accuracy' in history:\n",
    "    plt.subplot(1, 2, 1)\n",
    "    plt.plot(history['accuracy'])\n",
    "    plt.plot(history['val_accuracy'])\n",
    "    plt.title('Training and Validation Accuracy')\n",
    "    plt.xlabel('Epoch')\n",
    "    plt.ylabel('Accuracy')\n",
    "    plt.legend(['Training Accuracy', 'Validation Accuracy'], loc='upper left')\n",
    "\n",
    "# Plot training & validation loss values if available\n",
    "if 'loss' in history and 'val_loss' in history:\n",
    "    plt.subplot(1, 2, 2)\n",
    "    plt.plot(history['loss'])\n",
    "    plt.plot(history['val_loss'])\n",
    "    plt.title('Training and Validation Loss')\n",
    "    plt.xlabel('Epoch')\n",
    "    plt.ylabel('Loss')\n",
    "    plt.legend(['Training Loss', 'Validation Loss'], loc='upper left')\n",
    "\n",
    "plt.tight_layout()\n",
    "plt.show()\n"
   ]
  },
  {
   "cell_type": "code",
   "execution_count": null,
   "id": "9ed8eb86-26ad-434b-addf-22ce05056485",
   "metadata": {},
   "outputs": [],
   "source": []
  }
 ],
 "metadata": {
  "kernelspec": {
   "display_name": "Python 3 (ipykernel)",
   "language": "python",
   "name": "python3"
  },
  "language_info": {
   "codemirror_mode": {
    "name": "ipython",
    "version": 3
   },
   "file_extension": ".py",
   "mimetype": "text/x-python",
   "name": "python",
   "nbconvert_exporter": "python",
   "pygments_lexer": "ipython3",
   "version": "3.10.9"
  }
 },
 "nbformat": 4,
 "nbformat_minor": 5
}
